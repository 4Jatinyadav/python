{
 "cells": [
  {
   "cell_type": "code",
   "execution_count": 1,
   "metadata": {},
   "outputs": [
    {
     "name": "stdout",
     "output_type": "stream",
     "text": [
      "6\n",
      "5\n"
     ]
    }
   ],
   "source": [
    "a=5\n",
    "def fun():\n",
    "    a=6\n",
    "    print(a)\n",
    "fun()\n",
    "print(a)"
   ]
  },
  {
   "cell_type": "code",
   "execution_count": 5,
   "metadata": {},
   "outputs": [
    {
     "name": "stdout",
     "output_type": "stream",
     "text": [
      "6\n",
      "5\n"
     ]
    }
   ],
   "source": [
    "a=5\n",
    "def fun():\n",
    "    a=6\n",
    "    print(a)\n",
    "    x=globals()['a']\n",
    "    print(x)\n",
    "fun()"
   ]
  },
  {
   "cell_type": "code",
   "execution_count": 10,
   "metadata": {},
   "outputs": [
    {
     "name": "stdout",
     "output_type": "stream",
     "text": [
      "Shri Krishna\n"
     ]
    }
   ],
   "source": [
    "def display(str):\n",
    "    return 'Shri '+str\n",
    "var=display(\"Krishna\")\n",
    "print(var)"
   ]
  },
  {
   "cell_type": "code",
   "execution_count": 11,
   "metadata": {},
   "outputs": [
    {
     "name": "stdout",
     "output_type": "stream",
     "text": [
      "Jatin Yadav\n"
     ]
    }
   ],
   "source": [
    "def fun(str):\n",
    "    return 'Jatin '+str\n",
    "c=fun(\"Yadav\")\n",
    "print(c)"
   ]
  },
  {
   "cell_type": "code",
   "execution_count": 13,
   "metadata": {},
   "outputs": [
    {
     "name": "stdout",
     "output_type": "stream",
     "text": [
      "How ru?ksrish\n"
     ]
    }
   ],
   "source": [
    "def display(str):\n",
    "    def message():\n",
    "        return \"How ru?\"\n",
    "    res= message()+str\n",
    "    return res\n",
    "var=display(\"ksrish\")\n",
    "print(var)"
   ]
  },
  {
   "cell_type": "code",
   "execution_count": 17,
   "metadata": {},
   "outputs": [
    {
     "name": "stdout",
     "output_type": "stream",
     "text": [
      "How ru?Krish\n"
     ]
    }
   ],
   "source": [
    "def dispaly(fun):\n",
    "    return fun+\"How ru\"\n",
    "def fun(str):\n",
    "    return str\n",
    "a=fun(\"Krish\")\n",
    "c=display(a)\n",
    "print(c)\n",
    "    "
   ]
  },
  {
   "cell_type": "code",
   "execution_count": 20,
   "metadata": {},
   "outputs": [
    {
     "name": "stdout",
     "output_type": "stream",
     "text": [
      "How ru\n"
     ]
    }
   ],
   "source": [
    "def fun():\n",
    "    def message():\n",
    "        return \"How ru\"\n",
    "    return message\n",
    "var=fun()\n",
    "print(var())"
   ]
  },
  {
   "cell_type": "code",
   "execution_count": 28,
   "metadata": {},
   "outputs": [
    {
     "name": "stdout",
     "output_type": "stream",
     "text": [
      "Jatin 1985684459760\n",
      "hello Jatin 1985684518960\n"
     ]
    }
   ],
   "source": [
    "def modify(str):\n",
    "    return  \"hello \"+str\n",
    "str=\"Jatin\"\n",
    "a=modify(str)\n",
    "print(str,id(str))\n",
    "print(a,id(a))\n",
    "    "
   ]
  },
  {
   "cell_type": "code",
   "execution_count": 33,
   "metadata": {},
   "outputs": [
    {
     "name": "stdout",
     "output_type": "stream",
     "text": [
      "[2, 3, 4, 3, 9, 55] 1985682927816\n",
      "[2, 3, 4, 3, 9, 55] 1985682927816\n"
     ]
    }
   ],
   "source": [
    "def modify(lst):\n",
    "    lst.extend([9,55])\n",
    "    print(lst,id(lst))\n",
    "lst=[2,3,4,3]\n",
    "modify(lst)\n",
    "print(lst,id(lst))"
   ]
  },
  {
   "cell_type": "code",
   "execution_count": 34,
   "metadata": {},
   "outputs": [
    {
     "name": "stdout",
     "output_type": "stream",
     "text": [
      "Enter a number whose factorial you want to know7\n",
      "Factorial is 5040\n"
     ]
    }
   ],
   "source": [
    "def factorial(n):\n",
    "    if n==0:\n",
    "        res=1\n",
    "    else:\n",
    "        res=n*factorial(n-1)\n",
    "    return res\n",
    "n=int(input(\"Enter a number whose factorial you want to know\"))\n",
    "print(\"Factorial is\",factorial(n))"
   ]
  },
  {
   "cell_type": "code",
   "execution_count": null,
   "metadata": {},
   "outputs": [],
   "source": []
  }
 ],
 "metadata": {
  "kernelspec": {
   "display_name": "Python 3",
   "language": "python",
   "name": "python3"
  },
  "language_info": {
   "codemirror_mode": {
    "name": "ipython",
    "version": 3
   },
   "file_extension": ".py",
   "mimetype": "text/x-python",
   "name": "python",
   "nbconvert_exporter": "python",
   "pygments_lexer": "ipython3",
   "version": "3.7.4"
  }
 },
 "nbformat": 4,
 "nbformat_minor": 2
}
